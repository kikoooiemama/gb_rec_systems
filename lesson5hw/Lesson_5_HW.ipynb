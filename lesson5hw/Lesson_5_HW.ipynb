{
 "cells": [
  {
   "cell_type": "markdown",
   "id": "cf9cc8e9",
   "metadata": {},
   "source": [
    "# Домашнее задание №5 по теме \"Поиск похожих товаров и пользователей. Гибридные рекомендательные системы\"."
   ]
  },
  {
   "cell_type": "markdown",
   "id": "36ac24ac",
   "metadata": {},
   "source": [
    "## Подбор оптимальных гиперпараметров для LightFM\n",
    "\n",
    "- Постройте модели с помощью библиотеки LightFM, изменяя следующие параметры\n",
    "  - функция потерь, регуляризация\n",
    "  - количество компонент\n",
    "  - отдельно постройте модели, используя только матрицу взаимодействий и матрицу взаимодействий + признаки (набор признаков может быть различным, например как на вебинаре)\n",
    "  \n",
    "- Посчитайте метрики (Precision@5, Recall@5) для разных наборов гиперпараметров и выберете лучший набор\n"
   ]
  },
  {
   "cell_type": "code",
   "execution_count": 1,
   "id": "f810e4ef-aa7c-43a7-b608-9d988d8571d6",
   "metadata": {},
   "outputs": [
    {
     "name": "stderr",
     "output_type": "stream",
     "text": [
      "C:\\Users\\kikoooiemama\\anaconda3\\envs\\rec_systems\\lib\\site-packages\\lightfm\\_lightfm_fast.py:9: UserWarning: LightFM was compiled without OpenMP support. Only a single thread will be used.\n",
      "  warnings.warn(\n"
     ]
    }
   ],
   "source": [
    "import sys\n",
    "import pandas as pd\n",
    "import numpy as np\n",
    "import matplotlib.pyplot as plt\n",
    "%matplotlib inline\n",
    "\n",
    "# Для работы с матрицами\n",
    "from scipy.sparse import csr_matrix, coo_matrix\n",
    "\n",
    "# Матричная факторизация\n",
    "import lightfm\n",
    "from lightfm import LightFM\n",
    "from lightfm.evaluation import precision_at_k, recall_at_k\n",
    "\n",
    "import warnings\n",
    "warnings.filterwarnings('ignore')"
   ]
  },
  {
   "cell_type": "markdown",
   "id": "a8e29a4f-2ddb-4b8a-97a3-5e791c064cae",
   "metadata": {},
   "source": [
    "### Подготовка данных"
   ]
  },
  {
   "cell_type": "code",
   "execution_count": 2,
   "id": "0e7cece0",
   "metadata": {},
   "outputs": [],
   "source": [
    "data = pd.read_csv('../../data/retail_train.csv')\n",
    "item_features = pd.read_csv('../../data/product.csv')\n",
    "user_features = pd.read_csv('../../data/hh_demographic.csv')"
   ]
  },
  {
   "cell_type": "code",
   "execution_count": 3,
   "id": "ad2fd990",
   "metadata": {
    "scrolled": false
   },
   "outputs": [
    {
     "data": {
      "text/html": [
       "<div>\n",
       "<style scoped>\n",
       "    .dataframe tbody tr th:only-of-type {\n",
       "        vertical-align: middle;\n",
       "    }\n",
       "\n",
       "    .dataframe tbody tr th {\n",
       "        vertical-align: top;\n",
       "    }\n",
       "\n",
       "    .dataframe thead th {\n",
       "        text-align: right;\n",
       "    }\n",
       "</style>\n",
       "<table border=\"1\" class=\"dataframe\">\n",
       "  <thead>\n",
       "    <tr style=\"text-align: right;\">\n",
       "      <th></th>\n",
       "      <th>user_id</th>\n",
       "      <th>basket_id</th>\n",
       "      <th>day</th>\n",
       "      <th>item_id</th>\n",
       "      <th>quantity</th>\n",
       "      <th>sales_value</th>\n",
       "      <th>store_id</th>\n",
       "      <th>retail_disc</th>\n",
       "      <th>trans_time</th>\n",
       "      <th>week_no</th>\n",
       "      <th>coupon_disc</th>\n",
       "      <th>coupon_match_disc</th>\n",
       "    </tr>\n",
       "  </thead>\n",
       "  <tbody>\n",
       "    <tr>\n",
       "      <th>0</th>\n",
       "      <td>2375</td>\n",
       "      <td>26984851472</td>\n",
       "      <td>1</td>\n",
       "      <td>1004906</td>\n",
       "      <td>1</td>\n",
       "      <td>1.39</td>\n",
       "      <td>364</td>\n",
       "      <td>-0.6</td>\n",
       "      <td>1631</td>\n",
       "      <td>1</td>\n",
       "      <td>0.0</td>\n",
       "      <td>0.0</td>\n",
       "    </tr>\n",
       "    <tr>\n",
       "      <th>1</th>\n",
       "      <td>2375</td>\n",
       "      <td>26984851472</td>\n",
       "      <td>1</td>\n",
       "      <td>1033142</td>\n",
       "      <td>1</td>\n",
       "      <td>0.82</td>\n",
       "      <td>364</td>\n",
       "      <td>0.0</td>\n",
       "      <td>1631</td>\n",
       "      <td>1</td>\n",
       "      <td>0.0</td>\n",
       "      <td>0.0</td>\n",
       "    </tr>\n",
       "  </tbody>\n",
       "</table>\n",
       "</div>"
      ],
      "text/plain": [
       "   user_id    basket_id  day  item_id  quantity  sales_value  store_id  \\\n",
       "0     2375  26984851472    1  1004906         1         1.39       364   \n",
       "1     2375  26984851472    1  1033142         1         0.82       364   \n",
       "\n",
       "   retail_disc  trans_time  week_no  coupon_disc  coupon_match_disc  \n",
       "0         -0.6        1631        1          0.0                0.0  \n",
       "1          0.0        1631        1          0.0                0.0  "
      ]
     },
     "execution_count": 3,
     "metadata": {},
     "output_type": "execute_result"
    }
   ],
   "source": [
    "# column processing\n",
    "item_features.columns = [col.lower() for col in item_features.columns]\n",
    "user_features.columns = [col.lower() for col in user_features.columns]\n",
    "\n",
    "item_features.rename(columns={'product_id': 'item_id'}, inplace=True)\n",
    "user_features.rename(columns={'household_key': 'user_id'}, inplace=True)\n",
    "\n",
    "# train test split\n",
    "test_size_weeks = 3\n",
    "\n",
    "data_train = data[data['week_no'] < data['week_no'].max() - test_size_weeks]\n",
    "data_test = data[data['week_no'] >= data['week_no'].max() - test_size_weeks]\n",
    "\n",
    "data_train.head(2)"
   ]
  },
  {
   "cell_type": "markdown",
   "id": "958e940a",
   "metadata": {},
   "source": [
    "Фильтрация"
   ]
  },
  {
   "cell_type": "code",
   "execution_count": 4,
   "id": "fafd0c51",
   "metadata": {},
   "outputs": [],
   "source": [
    "popularity = data_train.groupby('item_id')['quantity'].sum().reset_index()\n",
    "popularity.rename(columns={'quantity': 'n_sold'}, inplace=True)\n",
    "top_5000 = popularity.sort_values('n_sold', ascending=False).head(5000).item_id.tolist()\n",
    "data_train.loc[~data_train['item_id'].isin(top_5000), 'item_id'] = 999999"
   ]
  },
  {
   "cell_type": "code",
   "execution_count": 5,
   "id": "cda97e23",
   "metadata": {},
   "outputs": [
    {
     "data": {
      "text/html": [
       "<div>\n",
       "<style scoped>\n",
       "    .dataframe tbody tr th:only-of-type {\n",
       "        vertical-align: middle;\n",
       "    }\n",
       "\n",
       "    .dataframe tbody tr th {\n",
       "        vertical-align: top;\n",
       "    }\n",
       "\n",
       "    .dataframe thead th {\n",
       "        text-align: right;\n",
       "    }\n",
       "</style>\n",
       "<table border=\"1\" class=\"dataframe\">\n",
       "  <thead>\n",
       "    <tr style=\"text-align: right;\">\n",
       "      <th>item_id</th>\n",
       "      <th>202291</th>\n",
       "      <th>397896</th>\n",
       "      <th>420647</th>\n",
       "      <th>480014</th>\n",
       "      <th>545926</th>\n",
       "      <th>707683</th>\n",
       "      <th>731106</th>\n",
       "      <th>818980</th>\n",
       "      <th>819063</th>\n",
       "      <th>819227</th>\n",
       "      <th>...</th>\n",
       "      <th>15778533</th>\n",
       "      <th>15831255</th>\n",
       "      <th>15926712</th>\n",
       "      <th>15926775</th>\n",
       "      <th>15926844</th>\n",
       "      <th>15926886</th>\n",
       "      <th>15927403</th>\n",
       "      <th>15927661</th>\n",
       "      <th>15927850</th>\n",
       "      <th>16809471</th>\n",
       "    </tr>\n",
       "    <tr>\n",
       "      <th>user_id</th>\n",
       "      <th></th>\n",
       "      <th></th>\n",
       "      <th></th>\n",
       "      <th></th>\n",
       "      <th></th>\n",
       "      <th></th>\n",
       "      <th></th>\n",
       "      <th></th>\n",
       "      <th></th>\n",
       "      <th></th>\n",
       "      <th></th>\n",
       "      <th></th>\n",
       "      <th></th>\n",
       "      <th></th>\n",
       "      <th></th>\n",
       "      <th></th>\n",
       "      <th></th>\n",
       "      <th></th>\n",
       "      <th></th>\n",
       "      <th></th>\n",
       "      <th></th>\n",
       "    </tr>\n",
       "  </thead>\n",
       "  <tbody>\n",
       "    <tr>\n",
       "      <th>1</th>\n",
       "      <td>0.0</td>\n",
       "      <td>0.0</td>\n",
       "      <td>0.0</td>\n",
       "      <td>0.0</td>\n",
       "      <td>0.0</td>\n",
       "      <td>0.0</td>\n",
       "      <td>0.0</td>\n",
       "      <td>0.0</td>\n",
       "      <td>0.0</td>\n",
       "      <td>0.0</td>\n",
       "      <td>...</td>\n",
       "      <td>0.0</td>\n",
       "      <td>0.0</td>\n",
       "      <td>0.0</td>\n",
       "      <td>0.0</td>\n",
       "      <td>1.0</td>\n",
       "      <td>0.0</td>\n",
       "      <td>0.0</td>\n",
       "      <td>0.0</td>\n",
       "      <td>0.0</td>\n",
       "      <td>0.0</td>\n",
       "    </tr>\n",
       "    <tr>\n",
       "      <th>2</th>\n",
       "      <td>0.0</td>\n",
       "      <td>0.0</td>\n",
       "      <td>0.0</td>\n",
       "      <td>0.0</td>\n",
       "      <td>0.0</td>\n",
       "      <td>0.0</td>\n",
       "      <td>0.0</td>\n",
       "      <td>0.0</td>\n",
       "      <td>0.0</td>\n",
       "      <td>0.0</td>\n",
       "      <td>...</td>\n",
       "      <td>0.0</td>\n",
       "      <td>0.0</td>\n",
       "      <td>0.0</td>\n",
       "      <td>0.0</td>\n",
       "      <td>0.0</td>\n",
       "      <td>0.0</td>\n",
       "      <td>0.0</td>\n",
       "      <td>0.0</td>\n",
       "      <td>0.0</td>\n",
       "      <td>0.0</td>\n",
       "    </tr>\n",
       "  </tbody>\n",
       "</table>\n",
       "<p>2 rows × 5001 columns</p>\n",
       "</div>"
      ],
      "text/plain": [
       "item_id  202291    397896    420647    480014    545926    707683    731106    \\\n",
       "user_id                                                                         \n",
       "1             0.0       0.0       0.0       0.0       0.0       0.0       0.0   \n",
       "2             0.0       0.0       0.0       0.0       0.0       0.0       0.0   \n",
       "\n",
       "item_id  818980    819063    819227    ...  15778533  15831255  15926712  \\\n",
       "user_id                                ...                                 \n",
       "1             0.0       0.0       0.0  ...       0.0       0.0       0.0   \n",
       "2             0.0       0.0       0.0  ...       0.0       0.0       0.0   \n",
       "\n",
       "item_id  15926775  15926844  15926886  15927403  15927661  15927850  16809471  \n",
       "user_id                                                                        \n",
       "1             0.0       1.0       0.0       0.0       0.0       0.0       0.0  \n",
       "2             0.0       0.0       0.0       0.0       0.0       0.0       0.0  \n",
       "\n",
       "[2 rows x 5001 columns]"
      ]
     },
     "execution_count": 5,
     "metadata": {},
     "output_type": "execute_result"
    }
   ],
   "source": [
    "user_item_matrix = pd.pivot_table(data_train, \n",
    "                                  index='user_id', \n",
    "                                  columns='item_id', \n",
    "                                  values='quantity',\n",
    "                                  aggfunc='count', \n",
    "                                  fill_value=0\n",
    "                                 )\n",
    "\n",
    "user_item_matrix = user_item_matrix.astype(float)\n",
    "sparse_user_item = csr_matrix(user_item_matrix).tocsr()\n",
    "user_item_matrix.head(2)"
   ]
  },
  {
   "cell_type": "code",
   "execution_count": 6,
   "id": "655194eb",
   "metadata": {},
   "outputs": [],
   "source": [
    "data_test = data_test[data_test['item_id'].isin(data_train['item_id'].unique())]\n",
    "test_user_item_matrix = pd.pivot_table(data_test, \n",
    "                                  index='user_id', \n",
    "                                  columns='item_id', \n",
    "                                  values='quantity', # Можно пробоват ьдругие варианты\n",
    "                                  aggfunc='count', \n",
    "                                  fill_value=0\n",
    "                                 )\n",
    "\n",
    "test_user_item_matrix = test_user_item_matrix.astype(float)\n",
    "sparse_user_item_test = csr_matrix(test_user_item_matrix).tocsr()"
   ]
  },
  {
   "cell_type": "code",
   "execution_count": 7,
   "id": "52497d5d",
   "metadata": {},
   "outputs": [],
   "source": [
    "userids = user_item_matrix.index.values\n",
    "itemids = user_item_matrix.columns.values\n",
    "\n",
    "matrix_userids = np.arange(len(userids))\n",
    "matrix_itemids = np.arange(len(itemids))\n",
    "\n",
    "id_to_itemid = dict(zip(matrix_itemids, itemids))\n",
    "id_to_userid = dict(zip(matrix_userids, userids))\n",
    "\n",
    "itemid_to_id = dict(zip(itemids, matrix_itemids))\n",
    "userid_to_id = dict(zip(userids, matrix_userids))"
   ]
  },
  {
   "cell_type": "markdown",
   "id": "c89dc562",
   "metadata": {},
   "source": [
    "Подготовка фичей"
   ]
  },
  {
   "cell_type": "code",
   "execution_count": 8,
   "id": "6c98793b",
   "metadata": {},
   "outputs": [],
   "source": [
    "test_user_feat = pd.DataFrame(test_user_item_matrix.index)\n",
    "test_user_feat = test_user_feat.merge(user_features, on='user_id', how='left')\n",
    "test_user_feat.set_index('user_id', inplace=True)\n",
    "\n",
    "user_feat = pd.DataFrame(user_item_matrix.index)\n",
    "user_feat = user_feat.merge(user_features, on='user_id', how='left')\n",
    "user_feat.set_index('user_id', inplace=True)\n",
    "\n",
    "item_feat = pd.DataFrame(user_item_matrix.columns)\n",
    "item_feat = item_feat.merge(item_features, on='item_id', how='left')\n",
    "item_feat.set_index('item_id', inplace=True)"
   ]
  },
  {
   "cell_type": "code",
   "execution_count": 9,
   "id": "2fa02c62",
   "metadata": {},
   "outputs": [],
   "source": [
    "test_user_feat_lightfm = pd.get_dummies(test_user_feat, columns=test_user_feat.columns.tolist())\n",
    "user_feat_lightfm = pd.get_dummies(user_feat, columns=user_feat.columns.tolist())\n",
    "item_feat_lightfm = pd.get_dummies(item_feat, columns=item_feat.columns.tolist())"
   ]
  },
  {
   "cell_type": "code",
   "execution_count": 10,
   "id": "e3ff5843",
   "metadata": {
    "scrolled": true
   },
   "outputs": [
    {
     "data": {
      "text/html": [
       "<div>\n",
       "<style scoped>\n",
       "    .dataframe tbody tr th:only-of-type {\n",
       "        vertical-align: middle;\n",
       "    }\n",
       "\n",
       "    .dataframe tbody tr th {\n",
       "        vertical-align: top;\n",
       "    }\n",
       "\n",
       "    .dataframe thead th {\n",
       "        text-align: right;\n",
       "    }\n",
       "</style>\n",
       "<table border=\"1\" class=\"dataframe\">\n",
       "  <thead>\n",
       "    <tr style=\"text-align: right;\">\n",
       "      <th></th>\n",
       "      <th>user_id</th>\n",
       "      <th>actual</th>\n",
       "    </tr>\n",
       "  </thead>\n",
       "  <tbody>\n",
       "    <tr>\n",
       "      <th>0</th>\n",
       "      <td>1</td>\n",
       "      <td>[821867, 834484, 856942, 865456, 914190, 95804...</td>\n",
       "    </tr>\n",
       "    <tr>\n",
       "      <th>1</th>\n",
       "      <td>3</td>\n",
       "      <td>[851057, 872021, 878302, 879948, 909638, 91320...</td>\n",
       "    </tr>\n",
       "  </tbody>\n",
       "</table>\n",
       "</div>"
      ],
      "text/plain": [
       "   user_id                                             actual\n",
       "0        1  [821867, 834484, 856942, 865456, 914190, 95804...\n",
       "1        3  [851057, 872021, 878302, 879948, 909638, 91320..."
      ]
     },
     "execution_count": 10,
     "metadata": {},
     "output_type": "execute_result"
    }
   ],
   "source": [
    "result = data_test.groupby('user_id')['item_id'].unique().reset_index()\n",
    "result.columns=['user_id', 'actual']\n",
    "result.head(2)"
   ]
  },
  {
   "cell_type": "markdown",
   "id": "06c6623c",
   "metadata": {},
   "source": [
    "### Построение модели и подбор лучших гиперпараметров"
   ]
  },
  {
   "cell_type": "code",
   "execution_count": 11,
   "id": "eff09951",
   "metadata": {},
   "outputs": [],
   "source": [
    "components_list = [5, 10, 15, 30]\n",
    "user_regularization_list = [0.01, 0.1]\n",
    "item_regularization_list = [0.01, 0.1]\n",
    "loss_list = ['bpr', 'warp']\n",
    "n_vars = len(components_list) * len(user_regularization_list) * len(item_regularization_list) * len(loss_list)"
   ]
  },
  {
   "cell_type": "code",
   "execution_count": 12,
   "id": "68752be6",
   "metadata": {},
   "outputs": [],
   "source": [
    "evaluate_dict = {}"
   ]
  },
  {
   "cell_type": "code",
   "execution_count": 13,
   "id": "936f343e",
   "metadata": {},
   "outputs": [
    {
     "name": "stdout",
     "output_type": "stream",
     "text": [
      "Progress: 32/32"
     ]
    }
   ],
   "source": [
    "i = 1\n",
    "for n_components in components_list:\n",
    "    for user_reg in user_regularization_list:\n",
    "        for item_reg in item_regularization_list:\n",
    "            for loss_type in loss_list:\n",
    "                model = LightFM(no_components=n_components,\n",
    "                                loss=loss_type, \n",
    "                                learning_rate=0.05, \n",
    "                                item_alpha=item_reg, \n",
    "                                user_alpha=user_reg, \n",
    "                                random_state=42)\n",
    "                \n",
    "                model.fit((sparse_user_item > 0) * 1,  # user-item matrix из 0 и 1\n",
    "                          sample_weight=coo_matrix(user_item_matrix),\n",
    "                          user_features=csr_matrix(user_feat_lightfm.values).tocsr(),\n",
    "                          item_features=csr_matrix(item_feat_lightfm.values).tocsr(),\n",
    "                          epochs=15, \n",
    "                          num_threads=4) \n",
    "                \n",
    "                alg_name = f\"LightFM(comp={n_components},u_r={user_reg},i_r={item_reg},loss={loss_type})\"\n",
    "                \n",
    "                precision = precision_at_k(model, sparse_user_item, \n",
    "                                 user_features=csr_matrix(user_feat_lightfm.values).tocsr(),\n",
    "                                 item_features=csr_matrix(item_feat_lightfm.values).tocsr(),\n",
    "                                 k=5).mean()\n",
    "                recall = recall_at_k(model, sparse_user_item, \n",
    "                                 user_features=csr_matrix(user_feat_lightfm.values).tocsr(),\n",
    "                                 item_features=csr_matrix(item_feat_lightfm.values).tocsr(),\n",
    "                                 k=5).mean()\n",
    "                evaluate_dict[alg_name] = []\n",
    "                evaluate_dict[alg_name].append(precision)\n",
    "                evaluate_dict[alg_name].append(recall)\n",
    "                \n",
    "                print(f\"\\rProgress: {i}/{n_vars}\", end=\"\")\n",
    "                sys.stdout.flush()\n",
    "                i+=1"
   ]
  },
  {
   "cell_type": "markdown",
   "id": "bc580f09",
   "metadata": {},
   "source": [
    "### Оценка"
   ]
  },
  {
   "cell_type": "code",
   "execution_count": 14,
   "id": "c84b6416",
   "metadata": {},
   "outputs": [
    {
     "data": {
      "text/html": [
       "<div>\n",
       "<style scoped>\n",
       "    .dataframe tbody tr th:only-of-type {\n",
       "        vertical-align: middle;\n",
       "    }\n",
       "\n",
       "    .dataframe tbody tr th {\n",
       "        vertical-align: top;\n",
       "    }\n",
       "\n",
       "    .dataframe thead th {\n",
       "        text-align: right;\n",
       "    }\n",
       "</style>\n",
       "<table border=\"1\" class=\"dataframe\">\n",
       "  <thead>\n",
       "    <tr style=\"text-align: right;\">\n",
       "      <th></th>\n",
       "      <th>Precision@5</th>\n",
       "      <th>Recall@5</th>\n",
       "    </tr>\n",
       "  </thead>\n",
       "  <tbody>\n",
       "    <tr>\n",
       "      <th>LightFM(comp=15,u_r=0.01,i_r=0.01,loss=warp)</th>\n",
       "      <td>0.533894</td>\n",
       "      <td>0.013292</td>\n",
       "    </tr>\n",
       "    <tr>\n",
       "      <th>LightFM(comp=10,u_r=0.1,i_r=0.01,loss=warp)</th>\n",
       "      <td>0.533574</td>\n",
       "      <td>0.013287</td>\n",
       "    </tr>\n",
       "    <tr>\n",
       "      <th>LightFM(comp=30,u_r=0.1,i_r=0.01,loss=warp)</th>\n",
       "      <td>0.533574</td>\n",
       "      <td>0.013287</td>\n",
       "    </tr>\n",
       "    <tr>\n",
       "      <th>LightFM(comp=5,u_r=0.1,i_r=0.01,loss=warp)</th>\n",
       "      <td>0.533574</td>\n",
       "      <td>0.013287</td>\n",
       "    </tr>\n",
       "    <tr>\n",
       "      <th>LightFM(comp=5,u_r=0.1,i_r=0.1,loss=warp)</th>\n",
       "      <td>0.533574</td>\n",
       "      <td>0.013287</td>\n",
       "    </tr>\n",
       "    <tr>\n",
       "      <th>LightFM(comp=15,u_r=0.1,i_r=0.01,loss=warp)</th>\n",
       "      <td>0.533574</td>\n",
       "      <td>0.013287</td>\n",
       "    </tr>\n",
       "    <tr>\n",
       "      <th>LightFM(comp=10,u_r=0.01,i_r=0.01,loss=warp)</th>\n",
       "      <td>0.533173</td>\n",
       "      <td>0.013281</td>\n",
       "    </tr>\n",
       "    <tr>\n",
       "      <th>LightFM(comp=5,u_r=0.01,i_r=0.01,loss=warp)</th>\n",
       "      <td>0.525650</td>\n",
       "      <td>0.013186</td>\n",
       "    </tr>\n",
       "    <tr>\n",
       "      <th>LightFM(comp=30,u_r=0.01,i_r=0.01,loss=warp)</th>\n",
       "      <td>0.523890</td>\n",
       "      <td>0.013021</td>\n",
       "    </tr>\n",
       "    <tr>\n",
       "      <th>LightFM(comp=15,u_r=0.1,i_r=0.1,loss=warp)</th>\n",
       "      <td>0.523249</td>\n",
       "      <td>0.013038</td>\n",
       "    </tr>\n",
       "  </tbody>\n",
       "</table>\n",
       "</div>"
      ],
      "text/plain": [
       "                                              Precision@5  Recall@5\n",
       "LightFM(comp=15,u_r=0.01,i_r=0.01,loss=warp)     0.533894  0.013292\n",
       "LightFM(comp=10,u_r=0.1,i_r=0.01,loss=warp)      0.533574  0.013287\n",
       "LightFM(comp=30,u_r=0.1,i_r=0.01,loss=warp)      0.533574  0.013287\n",
       "LightFM(comp=5,u_r=0.1,i_r=0.01,loss=warp)       0.533574  0.013287\n",
       "LightFM(comp=5,u_r=0.1,i_r=0.1,loss=warp)        0.533574  0.013287\n",
       "LightFM(comp=15,u_r=0.1,i_r=0.01,loss=warp)      0.533574  0.013287\n",
       "LightFM(comp=10,u_r=0.01,i_r=0.01,loss=warp)     0.533173  0.013281\n",
       "LightFM(comp=5,u_r=0.01,i_r=0.01,loss=warp)      0.525650  0.013186\n",
       "LightFM(comp=30,u_r=0.01,i_r=0.01,loss=warp)     0.523890  0.013021\n",
       "LightFM(comp=15,u_r=0.1,i_r=0.1,loss=warp)       0.523249  0.013038"
      ]
     },
     "execution_count": 14,
     "metadata": {},
     "output_type": "execute_result"
    }
   ],
   "source": [
    "evaluate_df = pd.DataFrame(evaluate_dict, index=['Precision@5', 'Recall@5'])\n",
    "evaluate_df.T.sort_values('Precision@5', ascending=False).head(10)"
   ]
  },
  {
   "cell_type": "code",
   "execution_count": 15,
   "id": "750aa75f",
   "metadata": {
    "scrolled": true
   },
   "outputs": [
    {
     "data": {
      "text/html": [
       "<div>\n",
       "<style scoped>\n",
       "    .dataframe tbody tr th:only-of-type {\n",
       "        vertical-align: middle;\n",
       "    }\n",
       "\n",
       "    .dataframe tbody tr th {\n",
       "        vertical-align: top;\n",
       "    }\n",
       "\n",
       "    .dataframe thead th {\n",
       "        text-align: right;\n",
       "    }\n",
       "</style>\n",
       "<table border=\"1\" class=\"dataframe\">\n",
       "  <thead>\n",
       "    <tr style=\"text-align: right;\">\n",
       "      <th></th>\n",
       "      <th>Precision@5</th>\n",
       "      <th>Recall@5</th>\n",
       "    </tr>\n",
       "  </thead>\n",
       "  <tbody>\n",
       "    <tr>\n",
       "      <th>LightFM(comp=10,u_r=0.1,i_r=0.1,loss=bpr)</th>\n",
       "      <td>0.378471</td>\n",
       "      <td>0.022281</td>\n",
       "    </tr>\n",
       "    <tr>\n",
       "      <th>LightFM(comp=15,u_r=0.01,i_r=0.1,loss=bpr)</th>\n",
       "      <td>0.373910</td>\n",
       "      <td>0.022133</td>\n",
       "    </tr>\n",
       "    <tr>\n",
       "      <th>LightFM(comp=5,u_r=0.01,i_r=0.1,loss=bpr)</th>\n",
       "      <td>0.371829</td>\n",
       "      <td>0.022088</td>\n",
       "    </tr>\n",
       "    <tr>\n",
       "      <th>LightFM(comp=10,u_r=0.01,i_r=0.1,loss=bpr)</th>\n",
       "      <td>0.362545</td>\n",
       "      <td>0.021909</td>\n",
       "    </tr>\n",
       "    <tr>\n",
       "      <th>LightFM(comp=5,u_r=0.1,i_r=0.01,loss=bpr)</th>\n",
       "      <td>0.361265</td>\n",
       "      <td>0.021895</td>\n",
       "    </tr>\n",
       "    <tr>\n",
       "      <th>LightFM(comp=5,u_r=0.01,i_r=0.01,loss=bpr)</th>\n",
       "      <td>0.361185</td>\n",
       "      <td>0.021894</td>\n",
       "    </tr>\n",
       "    <tr>\n",
       "      <th>LightFM(comp=10,u_r=0.01,i_r=0.01,loss=bpr)</th>\n",
       "      <td>0.361185</td>\n",
       "      <td>0.021894</td>\n",
       "    </tr>\n",
       "    <tr>\n",
       "      <th>LightFM(comp=30,u_r=0.01,i_r=0.01,loss=bpr)</th>\n",
       "      <td>0.361185</td>\n",
       "      <td>0.021894</td>\n",
       "    </tr>\n",
       "    <tr>\n",
       "      <th>LightFM(comp=15,u_r=0.01,i_r=0.01,loss=bpr)</th>\n",
       "      <td>0.361185</td>\n",
       "      <td>0.021894</td>\n",
       "    </tr>\n",
       "    <tr>\n",
       "      <th>LightFM(comp=5,u_r=0.1,i_r=0.1,loss=bpr)</th>\n",
       "      <td>0.361185</td>\n",
       "      <td>0.021894</td>\n",
       "    </tr>\n",
       "  </tbody>\n",
       "</table>\n",
       "</div>"
      ],
      "text/plain": [
       "                                             Precision@5  Recall@5\n",
       "LightFM(comp=10,u_r=0.1,i_r=0.1,loss=bpr)       0.378471  0.022281\n",
       "LightFM(comp=15,u_r=0.01,i_r=0.1,loss=bpr)      0.373910  0.022133\n",
       "LightFM(comp=5,u_r=0.01,i_r=0.1,loss=bpr)       0.371829  0.022088\n",
       "LightFM(comp=10,u_r=0.01,i_r=0.1,loss=bpr)      0.362545  0.021909\n",
       "LightFM(comp=5,u_r=0.1,i_r=0.01,loss=bpr)       0.361265  0.021895\n",
       "LightFM(comp=5,u_r=0.01,i_r=0.01,loss=bpr)      0.361185  0.021894\n",
       "LightFM(comp=10,u_r=0.01,i_r=0.01,loss=bpr)     0.361185  0.021894\n",
       "LightFM(comp=30,u_r=0.01,i_r=0.01,loss=bpr)     0.361185  0.021894\n",
       "LightFM(comp=15,u_r=0.01,i_r=0.01,loss=bpr)     0.361185  0.021894\n",
       "LightFM(comp=5,u_r=0.1,i_r=0.1,loss=bpr)        0.361185  0.021894"
      ]
     },
     "execution_count": 15,
     "metadata": {},
     "output_type": "execute_result"
    }
   ],
   "source": [
    "evaluate_df.T.sort_values('Recall@5', ascending=False).head(10)"
   ]
  },
  {
   "cell_type": "markdown",
   "id": "b7f711ae",
   "metadata": {},
   "source": [
    "**Вывод:** Recall довольно на низком уровне, поэтому лучше всего выбрать модель LightFM(comp=15,u_r=0.01,i_r=0.01,loss=warp), которая показала наиболее высокий Precision."
   ]
  },
  {
   "cell_type": "markdown",
   "id": "9457097b",
   "metadata": {},
   "source": [
    "---"
   ]
  }
 ],
 "metadata": {
  "kernelspec": {
   "display_name": "Python 3 (ipykernel)",
   "language": "python",
   "name": "python3"
  },
  "language_info": {
   "codemirror_mode": {
    "name": "ipython",
    "version": 3
   },
   "file_extension": ".py",
   "mimetype": "text/x-python",
   "name": "python",
   "nbconvert_exporter": "python",
   "pygments_lexer": "ipython3",
   "version": "3.8.15"
  }
 },
 "nbformat": 4,
 "nbformat_minor": 5
}
