{
 "cells": [
  {
   "cell_type": "markdown",
   "id": "425a10d7-caa9-4f84-abff-f528aeb4ab80",
   "metadata": {
    "id": "425a10d7-caa9-4f84-abff-f528aeb4ab80"
   },
   "source": [
    "# Домашнее задание №1 по теме \"Введение, примеры задач, бизнес- и ML-метрики\"\n",
    "\n",
    "На семинаре мы проходили метрики, необходимо реализовать некоторые из них"
   ]
  },
  {
   "cell_type": "code",
   "execution_count": 1,
   "id": "6f4acf2d-e8a0-469a-8463-6dc26521c554",
   "metadata": {
    "id": "6f4acf2d-e8a0-469a-8463-6dc26521c554"
   },
   "outputs": [],
   "source": [
    "import numpy as np\n",
    "import pandas as pd"
   ]
  },
  {
   "cell_type": "markdown",
   "id": "38a80a25-4ea6-49c9-a0f4-c7fc2a80dcc1",
   "metadata": {
    "id": "38a80a25-4ea6-49c9-a0f4-c7fc2a80dcc1"
   },
   "source": [
    "## Задание 1. Реализовать метрики Recall@k и  Money Recall@k\n",
    "\n",
    "*Recall* - доля рекомендованных товаров среди релевантных = Какой % купленных товаров был среди рекомендованных\n",
    "\n",
    "$$\\Large Recall@K(i) = \\frac {\\sum_{j=1}^{K}\\mathbb{1}_{r_{ij}}}{|Rel_i|}$$\n",
    "\n",
    "$\\Large |Rel_i|$ -- количество релевантных товаров для пользователя $i$\n",
    "\n",
    "$$\\Large MoneyRecall@K(i) = \\frac {\\sum_{j=1}^{K}\\mathbb{1}_{r_{ij}}\\cdot Price(j)}{\\sum_{s\\in Rel_i}Price(s)}$$\n"
   ]
  },
  {
   "cell_type": "code",
   "execution_count": 2,
   "id": "34a7db81-664c-4c9b-92c0-d565fa5487fc",
   "metadata": {
    "id": "34a7db81-664c-4c9b-92c0-d565fa5487fc"
   },
   "outputs": [],
   "source": [
    "def recall_at_k(recommended_list, bought_list, k=5):\n",
    "    \n",
    "    bought_list = np.array(bought_list)\n",
    "    recommended_list = np.array(recommended_list)\n",
    "    \n",
    "    flags = np.isin(bought_list, recommended_list[:k])\n",
    "    recall = flags.sum() / len(bought_list)\n",
    "    \n",
    "    return recall\n",
    "\n",
    "\n",
    "def money_recall_at_k(recommended_list, bought_list, prices_recommended, prices_bought, k=5):\n",
    "    bought_list = np.array(bought_list)\n",
    "    recommended_list = np.array(recommended_list)\n",
    "    \n",
    "    prices_recommended = np.array(prices_recommended)\n",
    "    prices_bought = np.array(prices_bought)\n",
    "    \n",
    "    flags = np.isin(bought_list, recommended_list[:k])\n",
    "    \n",
    "    recall = (flags*prices_bought).sum() / prices_bought.sum()\n",
    "    \n",
    "    return recall"
   ]
  },
  {
   "cell_type": "code",
   "execution_count": 3,
   "id": "74b33418",
   "metadata": {},
   "outputs": [],
   "source": [
    "recommended_list = [143, 156, 1134, 991, 27, 1543, 3345, 533, 11, 43]\n",
    "bought_list = [521, 32, 143, 991, 11]\n",
    "\n",
    "prices_recommended = [200, 100, 500, 250, 400, 750, 1000, 50, 70, 330]\n",
    "prices_bought = [230, 1000, 200, 250, 70]"
   ]
  },
  {
   "cell_type": "code",
   "execution_count": 4,
   "id": "f0eac311",
   "metadata": {},
   "outputs": [
    {
     "data": {
      "text/plain": [
       "0.4"
      ]
     },
     "execution_count": 4,
     "metadata": {},
     "output_type": "execute_result"
    }
   ],
   "source": [
    "recall_at_k(recommended_list, bought_list, k=5)"
   ]
  },
  {
   "cell_type": "code",
   "execution_count": 5,
   "id": "a30280b1",
   "metadata": {},
   "outputs": [
    {
     "data": {
      "text/plain": [
       "0.2"
      ]
     },
     "execution_count": 5,
     "metadata": {},
     "output_type": "execute_result"
    }
   ],
   "source": [
    "recall_at_k(recommended_list, bought_list, k=2)"
   ]
  },
  {
   "cell_type": "code",
   "execution_count": 6,
   "id": "401007fb",
   "metadata": {},
   "outputs": [
    {
     "data": {
      "text/plain": [
       "0.2571428571428571"
      ]
     },
     "execution_count": 6,
     "metadata": {},
     "output_type": "execute_result"
    }
   ],
   "source": [
    "money_recall_at_k(recommended_list, bought_list, prices_recommended, prices_bought, k=5)"
   ]
  },
  {
   "cell_type": "code",
   "execution_count": 7,
   "id": "bf8a9108",
   "metadata": {},
   "outputs": [
    {
     "data": {
      "text/plain": [
       "0.11428571428571428"
      ]
     },
     "execution_count": 7,
     "metadata": {},
     "output_type": "execute_result"
    }
   ],
   "source": [
    "money_recall_at_k(recommended_list, bought_list, prices_recommended, prices_bought, k=2)"
   ]
  },
  {
   "cell_type": "markdown",
   "id": "b42d4d0d-6073-47b6-ad54-586a477405e5",
   "metadata": {
    "id": "b42d4d0d-6073-47b6-ad54-586a477405e5"
   },
   "source": [
    "## Задание 2. Реализовать метрику MRR@k\n",
    "\n",
    "Mean Reciprocal Rank\n",
    "\n",
    "- Считаем для первых k рекоммендаций\n",
    "- Найти ранк первого релевантного предсказания $\\Large rank_j$\n",
    "- Посчитать reciprocal rank = $\\Large\\frac{1}{rank_j}$\n",
    "\n",
    "$$\\Large  MMR(i)@k=\\frac {1}{\\min\\limits_{j\\in Rel(i)} rank_j}$$"
   ]
  },
  {
   "cell_type": "code",
   "execution_count": 8,
   "id": "9c8940da-3621-4a54-8236-810a42ed4b77",
   "metadata": {
    "id": "9c8940da-3621-4a54-8236-810a42ed4b77"
   },
   "outputs": [],
   "source": [
    "def mrr_at_k(recommended_list, bought_list, k=5):\n",
    "    bought_list = np.array(bought_list)\n",
    "    recommended_list = np.array(recommended_list)\n",
    "    \n",
    "    flags = np.isin(bought_list, recommended_list[:k])\n",
    "    rank = np.min(np.argwhere(flags == True)) + 1 # считаем, что ранк начинается с 1\n",
    "    mrr = 1 / rank\n",
    "    \n",
    "    return mrr"
   ]
  },
  {
   "cell_type": "code",
   "execution_count": 9,
   "id": "e35b30a4",
   "metadata": {},
   "outputs": [
    {
     "data": {
      "text/plain": [
       "0.3333333333333333"
      ]
     },
     "execution_count": 9,
     "metadata": {},
     "output_type": "execute_result"
    }
   ],
   "source": [
    "mrr_at_k(recommended_list, bought_list, k=5)"
   ]
  },
  {
   "cell_type": "markdown",
   "id": "1c3008cc-fd9e-44c6-8913-43d71ffb9cd7",
   "metadata": {
    "id": "1c3008cc-fd9e-44c6-8913-43d71ffb9cd7"
   },
   "source": [
    "## Задание 3*. Реализовать метрику nDCG@k\n",
    "Normalized discounted cumulative gain. Эту метрику реализовать будет немного сложнее.\n",
    "\n",
    "$$\\Large DCG@K(i) = \\sum_{j=1}^{K}\\frac{\\mathbb{1}_{r_{ij}}}{\\log_2 (j+1)}$$\n",
    "\n",
    "\n",
    "$\\Large \\mathbb{1}_{r_{ij}}$ -- индикаторная функция показывает что пользователь $i$ провзаимодействовал с продуктом $j$\n",
    "\n",
    "Для подсчета $nDCG$ нам необходимо найти максимально возможный $DCG$ для пользователя $i$  и рекомендаций длины $K$.\n",
    "Максимальный $DCG$ достигается когда мы порекомендовали максимально возможное количество релевантных продуктов и все они в начале списка рекомендаций.\n",
    "\n",
    "$$\\Large IDCG@K(i) = max(DCG@K(i)) = \\sum_{j=1}^{K}\\frac{\\mathbb{1}_{j\\le|Rel_i|}}{\\log_2 (j+1)}$$\n",
    "\n",
    "$$\\Large nDCG@K(i) = \\frac {DCG@K(i)}{IDCG@K(i)}$$\n",
    "\n",
    "$\\Large |Rel_i|$ -- количество релевантных продуктов для пользователя $i$"
   ]
  },
  {
   "cell_type": "markdown",
   "id": "b4fb14d5",
   "metadata": {},
   "source": [
    "Пример:\n",
    "\n",
    "[1 0 0 1 0] + пользователь кликнул еще 1 айтем\n",
    "\n",
    "DCG = 1/1 + 0 + 0 + 1/log_2(5)\n",
    "\n",
    "[1 1 1 0 0]\n",
    "\n",
    "IDCG = 1/1 + 1/log_2(3) + 1/log_2(4)"
   ]
  },
  {
   "cell_type": "code",
   "execution_count": 10,
   "id": "67d7e53c-dfd8-4423-a107-f85880a45c7e",
   "metadata": {
    "id": "67d7e53c-dfd8-4423-a107-f85880a45c7e"
   },
   "outputs": [],
   "source": [
    "def ndcg_at_k(recommended_list, bought_list, k=5):\n",
    "    bought_list = np.array(bought_list)\n",
    "    recommended_list = np.array(recommended_list)\n",
    "    \n",
    "    # считаем dcg@k\n",
    "    flags = np.isin(bought_list, recommended_list[:k])\n",
    "    m_log = np.array([1/np.log2(i+1) for i in np.arange(1, flags.size + 1)])\n",
    "    dcg_at_k = np.sum(m_log[flags])\n",
    "    \n",
    "    # считаем idcg@k\n",
    "    rel_i = len(bought_list)\n",
    "    idcg_at_k = np.sum([i/np.log2(i+1) for i in range(1, rel_i+1)])\n",
    "    \n",
    "    # считаем nDCG@k \n",
    "    ndcg_at_k = dcg_at_k/idcg_at_k\n",
    "    \n",
    "    return ndcg_at_k"
   ]
  },
  {
   "cell_type": "code",
   "execution_count": 11,
   "id": "c131fa5c",
   "metadata": {},
   "outputs": [
    {
     "data": {
      "text/plain": [
       "0.12544789221787622"
      ]
     },
     "execution_count": 11,
     "metadata": {},
     "output_type": "execute_result"
    }
   ],
   "source": [
    "ndcg_at_k(recommended_list, bought_list, k=5)"
   ]
  },
  {
   "cell_type": "code",
   "execution_count": 12,
   "id": "2269207b",
   "metadata": {},
   "outputs": [
    {
     "data": {
      "text/plain": [
       "0.17759261300745321"
      ]
     },
     "execution_count": 12,
     "metadata": {},
     "output_type": "execute_result"
    }
   ],
   "source": [
    "ndcg_at_k(recommended_list, bought_list, k=10)"
   ]
  },
  {
   "cell_type": "code",
   "execution_count": 13,
   "id": "be322083",
   "metadata": {},
   "outputs": [
    {
     "data": {
      "text/plain": [
       "0.0673960739258157"
      ]
     },
     "execution_count": 13,
     "metadata": {},
     "output_type": "execute_result"
    }
   ],
   "source": [
    "ndcg_at_k(recommended_list, bought_list, k=2)"
   ]
  },
  {
   "cell_type": "markdown",
   "id": "63d9f69f",
   "metadata": {},
   "source": [
    "---"
   ]
  }
 ],
 "metadata": {
  "colab": {
   "provenance": []
  },
  "kernelspec": {
   "display_name": "Python 3 (ipykernel)",
   "language": "python",
   "name": "python3"
  },
  "language_info": {
   "codemirror_mode": {
    "name": "ipython",
    "version": 3
   },
   "file_extension": ".py",
   "mimetype": "text/x-python",
   "name": "python",
   "nbconvert_exporter": "python",
   "pygments_lexer": "ipython3",
   "version": "3.11.0"
  }
 },
 "nbformat": 4,
 "nbformat_minor": 5
}
