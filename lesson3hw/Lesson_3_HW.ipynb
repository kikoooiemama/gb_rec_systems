{
 "cells": [
  {
   "cell_type": "markdown",
   "id": "969aa899",
   "metadata": {},
   "source": [
    "# Домашнее задание №3 по теме \"Коллаборативная фильтрация\"."
   ]
  },
  {
   "cell_type": "markdown",
   "id": "437b4472",
   "metadata": {},
   "source": [
    "В видеоуроке мы рассмотрели базовое применение ALS, а также ALS с использованием взвешивания по типу: tfidf и bm25. \n",
    "\n",
    "В качестве домашнего задания предлагается самому еще раз протестировать данные методы и попробовать улучшить результат, полученный на уроке."
   ]
  },
  {
   "cell_type": "code",
   "execution_count": 1,
   "id": "5f0162d0",
   "metadata": {},
   "outputs": [],
   "source": [
    "import pandas as pd\n",
    "import numpy as np\n",
    "import matplotlib.pyplot as plt\n",
    "%matplotlib inline\n",
    "\n",
    "# Для работы с матрицами\n",
    "from scipy.sparse import csr_matrix\n",
    "\n",
    "# Матричная факторизация\n",
    "from implicit.als import AlternatingLeastSquares\n",
    "from implicit.nearest_neighbours import bm25_weight, tfidf_weight\n",
    "\n",
    "import sys"
   ]
  },
  {
   "cell_type": "code",
   "execution_count": 2,
   "id": "1dc37a14",
   "metadata": {},
   "outputs": [],
   "source": [
    "# Функции из 1-ого вебинара\n",
    "def precision_at_k(recommended_list, bought_list, k=5):\n",
    "    bought_list = np.array(bought_list)\n",
    "    recommended_list = np.array(recommended_list)\n",
    "    \n",
    "    bought_list = bought_list \n",
    "    recommended_list = recommended_list[:k]\n",
    "    flags = np.isin(bought_list, recommended_list)\n",
    "    precision = flags.sum() / len(recommended_list)\n",
    "    \n",
    "    return precision\n",
    "\n",
    "def ap_at_k(recommended_list, bought_list, k=5):\n",
    "    \n",
    "    bought_list = np.array(bought_list)\n",
    "    recommended_list = np.array(recommended_list)\n",
    "    \n",
    "    flags = np.isin(recommended_list, bought_list)\n",
    "    \n",
    "    if sum(flags) == 0:\n",
    "        return 0\n",
    "    \n",
    "    sum_ = 0\n",
    "    for i in range(k):\n",
    "        \n",
    "        if flags[i]:\n",
    "            p_k = precision_at_k(recommended_list, bought_list, k=i+1)\n",
    "            sum_ += p_k\n",
    "            \n",
    "    result = sum_ / k\n",
    "    \n",
    "    return result\n",
    "\n",
    "# Функции из 3-ого вебинара\n",
    "def get_recommendations(user, model, sparse_user_item, N=5):\n",
    "    res = [id_to_itemid[rec] for rec in \n",
    "                    model.recommend(userid=userid_to_id[user], \n",
    "                                    user_items=sparse_user_item[userid_to_id[user]],\n",
    "                                    N=N, \n",
    "                                    filter_already_liked_items=False, \n",
    "                                    filter_items=[itemid_to_id[999999]], \n",
    "                                    recalculate_user=True)[0]] \n",
    "    return res"
   ]
  },
  {
   "cell_type": "markdown",
   "id": "adf3af33",
   "metadata": {},
   "source": [
    "**Загрузка данных:**"
   ]
  },
  {
   "cell_type": "code",
   "execution_count": 3,
   "id": "4d1ffa99",
   "metadata": {},
   "outputs": [
    {
     "data": {
      "text/html": [
       "<div>\n",
       "<style scoped>\n",
       "    .dataframe tbody tr th:only-of-type {\n",
       "        vertical-align: middle;\n",
       "    }\n",
       "\n",
       "    .dataframe tbody tr th {\n",
       "        vertical-align: top;\n",
       "    }\n",
       "\n",
       "    .dataframe thead th {\n",
       "        text-align: right;\n",
       "    }\n",
       "</style>\n",
       "<table border=\"1\" class=\"dataframe\">\n",
       "  <thead>\n",
       "    <tr style=\"text-align: right;\">\n",
       "      <th></th>\n",
       "      <th>user_id</th>\n",
       "      <th>basket_id</th>\n",
       "      <th>day</th>\n",
       "      <th>item_id</th>\n",
       "      <th>quantity</th>\n",
       "      <th>sales_value</th>\n",
       "      <th>store_id</th>\n",
       "      <th>retail_disc</th>\n",
       "      <th>trans_time</th>\n",
       "      <th>week_no</th>\n",
       "      <th>coupon_disc</th>\n",
       "      <th>coupon_match_disc</th>\n",
       "    </tr>\n",
       "  </thead>\n",
       "  <tbody>\n",
       "    <tr>\n",
       "      <th>0</th>\n",
       "      <td>2375</td>\n",
       "      <td>26984851472</td>\n",
       "      <td>1</td>\n",
       "      <td>1004906</td>\n",
       "      <td>1</td>\n",
       "      <td>1.39</td>\n",
       "      <td>364</td>\n",
       "      <td>-0.6</td>\n",
       "      <td>1631</td>\n",
       "      <td>1</td>\n",
       "      <td>0.0</td>\n",
       "      <td>0.0</td>\n",
       "    </tr>\n",
       "    <tr>\n",
       "      <th>1</th>\n",
       "      <td>2375</td>\n",
       "      <td>26984851472</td>\n",
       "      <td>1</td>\n",
       "      <td>1033142</td>\n",
       "      <td>1</td>\n",
       "      <td>0.82</td>\n",
       "      <td>364</td>\n",
       "      <td>0.0</td>\n",
       "      <td>1631</td>\n",
       "      <td>1</td>\n",
       "      <td>0.0</td>\n",
       "      <td>0.0</td>\n",
       "    </tr>\n",
       "  </tbody>\n",
       "</table>\n",
       "</div>"
      ],
      "text/plain": [
       "   user_id    basket_id  day  item_id  quantity  sales_value  store_id  \\\n",
       "0     2375  26984851472    1  1004906         1         1.39       364   \n",
       "1     2375  26984851472    1  1033142         1         0.82       364   \n",
       "\n",
       "   retail_disc  trans_time  week_no  coupon_disc  coupon_match_disc  \n",
       "0         -0.6        1631        1          0.0                0.0  \n",
       "1          0.0        1631        1          0.0                0.0  "
      ]
     },
     "execution_count": 3,
     "metadata": {},
     "output_type": "execute_result"
    }
   ],
   "source": [
    "data = pd.read_csv('retail_train.csv')\n",
    "\n",
    "test_size_weeks = 3\n",
    "\n",
    "data_train = data[data['week_no'] < data['week_no'].max() - test_size_weeks]\n",
    "data_test = data[data['week_no'] >= data['week_no'].max() - test_size_weeks]\n",
    "\n",
    "data_train.head(2)"
   ]
  },
  {
   "cell_type": "code",
   "execution_count": 4,
   "id": "90ed61e0",
   "metadata": {},
   "outputs": [
    {
     "data": {
      "text/html": [
       "<div>\n",
       "<style scoped>\n",
       "    .dataframe tbody tr th:only-of-type {\n",
       "        vertical-align: middle;\n",
       "    }\n",
       "\n",
       "    .dataframe tbody tr th {\n",
       "        vertical-align: top;\n",
       "    }\n",
       "\n",
       "    .dataframe thead th {\n",
       "        text-align: right;\n",
       "    }\n",
       "</style>\n",
       "<table border=\"1\" class=\"dataframe\">\n",
       "  <thead>\n",
       "    <tr style=\"text-align: right;\">\n",
       "      <th></th>\n",
       "      <th>user_id</th>\n",
       "      <th>actual</th>\n",
       "    </tr>\n",
       "  </thead>\n",
       "  <tbody>\n",
       "    <tr>\n",
       "      <th>0</th>\n",
       "      <td>1</td>\n",
       "      <td>[821867, 834484, 856942, 865456, 889248, 90795...</td>\n",
       "    </tr>\n",
       "    <tr>\n",
       "      <th>1</th>\n",
       "      <td>3</td>\n",
       "      <td>[835476, 851057, 872021, 878302, 879948, 90963...</td>\n",
       "    </tr>\n",
       "  </tbody>\n",
       "</table>\n",
       "</div>"
      ],
      "text/plain": [
       "   user_id                                             actual\n",
       "0        1  [821867, 834484, 856942, 865456, 889248, 90795...\n",
       "1        3  [835476, 851057, 872021, 878302, 879948, 90963..."
      ]
     },
     "execution_count": 4,
     "metadata": {},
     "output_type": "execute_result"
    }
   ],
   "source": [
    "result = data_test.groupby('user_id')['item_id'].unique().reset_index()\n",
    "result.columns=['user_id', 'actual']\n",
    "result.head(2)"
   ]
  },
  {
   "cell_type": "markdown",
   "id": "eb47d7ef",
   "metadata": {},
   "source": [
    "**Обработка Топ-5000 товаров:**"
   ]
  },
  {
   "cell_type": "code",
   "execution_count": 5,
   "id": "e65a0b32",
   "metadata": {},
   "outputs": [],
   "source": [
    "popularity = data_train.groupby('item_id')['quantity'].sum().reset_index()\n",
    "popularity.rename(columns={'quantity': 'n_sold'}, inplace=True)\n",
    "\n",
    "top_5000 = popularity.sort_values('n_sold', ascending=False).head(5000).item_id.tolist()\n",
    "\n",
    "data_train.loc[~data_train['item_id'].isin(top_5000), 'item_id'] = 999999\n",
    "\n",
    "user_item_matrix = pd.pivot_table(data_train, \n",
    "                                  index='user_id', \n",
    "                                  columns='item_id', \n",
    "                                  values='quantity',\n",
    "                                  aggfunc='count', \n",
    "                                  fill_value=0\n",
    "                                 )\n",
    "\n",
    "user_item_matrix = user_item_matrix.astype(float) # необходимый тип матрицы для implicit\n",
    "\n",
    "# переведем в формат sparse matrix\n",
    "sparse_user_item = csr_matrix(user_item_matrix).tocsr()"
   ]
  },
  {
   "cell_type": "code",
   "execution_count": 6,
   "id": "2a67b012",
   "metadata": {},
   "outputs": [],
   "source": [
    "userids = user_item_matrix.index.values\n",
    "itemids = user_item_matrix.columns.values\n",
    "\n",
    "matrix_userids = np.arange(len(userids))\n",
    "matrix_itemids = np.arange(len(itemids))\n",
    "\n",
    "id_to_itemid = dict(zip(matrix_itemids, itemids))\n",
    "id_to_userid = dict(zip(matrix_userids, userids))\n",
    "\n",
    "itemid_to_id = dict(zip(itemids, matrix_itemids))\n",
    "userid_to_id = dict(zip(userids, matrix_userids))"
   ]
  },
  {
   "cell_type": "code",
   "execution_count": 7,
   "id": "f63a5979",
   "metadata": {},
   "outputs": [],
   "source": [
    "evaluate_dict = {}"
   ]
  },
  {
   "cell_type": "markdown",
   "id": "6466f857",
   "metadata": {},
   "source": [
    "### 1. Базовое применение Alternating Least Squares"
   ]
  },
  {
   "cell_type": "code",
   "execution_count": 8,
   "id": "8740c883",
   "metadata": {},
   "outputs": [],
   "source": [
    "factors_list = [50, 100, 150, 200]\n",
    "regularization_list = [0.001, 0.005]\n",
    "iterations_list = [10, 15, 20]\n",
    "n_vars = len(factors_list) * len(regularization_list) * len(iterations_list)"
   ]
  },
  {
   "cell_type": "code",
   "execution_count": 9,
   "id": "4863bf0b",
   "metadata": {},
   "outputs": [
    {
     "name": "stdout",
     "output_type": "stream",
     "text": [
      "Progress: 24/24"
     ]
    }
   ],
   "source": [
    "i=1\n",
    "for f in factors_list:\n",
    "    for r in regularization_list:\n",
    "        for it in iterations_list:\n",
    "            model = AlternatingLeastSquares(factors=f,\n",
    "                                            regularization=r,\n",
    "                                            iterations=it,\n",
    "                                            calculate_training_loss=True,\n",
    "                                            num_threads=4, \n",
    "                                            random_state=42)\n",
    "            model.fit(sparse_user_item, \n",
    "                      show_progress=False)\n",
    "            \n",
    "            alg_name = f\"als(f={f},r={r},it={it})\"\n",
    "            result[alg_name] = result['user_id'].apply(lambda x: get_recommendations(x, model, sparse_user_item, N=5))\n",
    "            \n",
    "            evaluate_dict[alg_name] = []\n",
    "            evaluate_dict[alg_name].append(result.apply(lambda row: precision_at_k(row[alg_name], row['actual'], k=5), axis=1).mean())\n",
    "            evaluate_dict[alg_name].append(result.apply(lambda row: ap_at_k(row[alg_name], row['actual'], k=5), axis=1).mean())\n",
    "            \n",
    "            print(f\"\\rProgress: {i}/{n_vars}\", end=\"\")\n",
    "            sys.stdout.flush()\n",
    "            i+=1"
   ]
  },
  {
   "cell_type": "markdown",
   "id": "cc3475aa",
   "metadata": {},
   "source": [
    "###  2. Alternating Least Squares и TF-IDF взвешивание"
   ]
  },
  {
   "cell_type": "code",
   "execution_count": 10,
   "id": "e5638ec3",
   "metadata": {},
   "outputs": [],
   "source": [
    "factors_list = [100, 150, 200]\n",
    "regularization_list = [0.01, 0.05]\n",
    "iterations_list = [5, 10, 15, 20]\n",
    "n_vars = len(factors_list) * len(regularization_list) * len(iterations_list)"
   ]
  },
  {
   "cell_type": "code",
   "execution_count": 11,
   "id": "e0dbf7c4",
   "metadata": {},
   "outputs": [],
   "source": [
    "tfidf_user_item_matrix = tfidf_weight(user_item_matrix).tocsr() "
   ]
  },
  {
   "cell_type": "code",
   "execution_count": 12,
   "id": "6b0b2af4",
   "metadata": {},
   "outputs": [
    {
     "name": "stdout",
     "output_type": "stream",
     "text": [
      "Progress: 24/24"
     ]
    }
   ],
   "source": [
    "i=1\n",
    "for f in factors_list:\n",
    "    for r in regularization_list:\n",
    "        for it in iterations_list:\n",
    "            model = AlternatingLeastSquares(factors=f,\n",
    "                                            regularization=r,\n",
    "                                            iterations=it,\n",
    "                                            calculate_training_loss=True,\n",
    "                                            num_threads=4, \n",
    "                                            random_state=42)\n",
    "            model.fit(tfidf_user_item_matrix, \n",
    "                      show_progress=False)\n",
    "            \n",
    "            alg_name = f\"als_tfidf(f={f},r={r},it={it})\"\n",
    "            result[alg_name] = result['user_id'].apply(lambda x: get_recommendations(x, model, sparse_user_item, N=5))\n",
    "            \n",
    "            evaluate_dict[alg_name] = []\n",
    "            evaluate_dict[alg_name].append(result.apply(lambda row: precision_at_k(row[alg_name], row['actual'], k=5), axis=1).mean())\n",
    "            evaluate_dict[alg_name].append(result.apply(lambda row: ap_at_k(row[alg_name], row['actual'], k=5), axis=1).mean())\n",
    "            \n",
    "            print(f\"\\rProgress: {i}/{n_vars}\", end=\"\")\n",
    "            sys.stdout.flush()\n",
    "            i+=1"
   ]
  },
  {
   "cell_type": "markdown",
   "id": "4ed664ba",
   "metadata": {},
   "source": [
    "### 3. Alternating Least Squares и BM25 взвешивание"
   ]
  },
  {
   "cell_type": "code",
   "execution_count": 13,
   "id": "3445be50",
   "metadata": {},
   "outputs": [],
   "source": [
    "factors_list = [100, 150, 200, 400]\n",
    "regularization_list = [0.001, 0.005]\n",
    "iterations_list = [5, 10, 20]\n",
    "n_vars = len(factors_list) * len(regularization_list) * len(iterations_list)"
   ]
  },
  {
   "cell_type": "code",
   "execution_count": 14,
   "id": "737698f7",
   "metadata": {},
   "outputs": [],
   "source": [
    "bm25_user_item_matrix = bm25_weight(user_item_matrix.T).T.tocsr()"
   ]
  },
  {
   "cell_type": "code",
   "execution_count": 15,
   "id": "f347acb9",
   "metadata": {},
   "outputs": [
    {
     "name": "stdout",
     "output_type": "stream",
     "text": [
      "Progress: 24/24"
     ]
    }
   ],
   "source": [
    "i=1\n",
    "for f in factors_list:\n",
    "    for r in regularization_list:\n",
    "        for it in iterations_list:\n",
    "            model = AlternatingLeastSquares(factors=f,\n",
    "                                            regularization=r,\n",
    "                                            iterations=it,\n",
    "                                            calculate_training_loss=True,\n",
    "                                            num_threads=4, \n",
    "                                            random_state=42)\n",
    "            model.fit(csr_matrix(bm25_user_item_matrix).tocsr(), \n",
    "                      show_progress=False)\n",
    "            \n",
    "            alg_name = f\"als_bm25(f={f},r={r},it={it})\"\n",
    "            result[alg_name] = result['user_id'].apply(lambda x: get_recommendations(x, model, sparse_user_item, N=5))\n",
    "            \n",
    "            evaluate_dict[alg_name] = []\n",
    "            evaluate_dict[alg_name].append(result.apply(lambda row: precision_at_k(row[alg_name], row['actual'], k=5), axis=1).mean())\n",
    "            evaluate_dict[alg_name].append(result.apply(lambda row: ap_at_k(row[alg_name], row['actual'], k=5), axis=1).mean())\n",
    "            \n",
    "            print(f\"\\rProgress: {i}/{n_vars}\", end=\"\")\n",
    "            sys.stdout.flush()\n",
    "            i+=1"
   ]
  },
  {
   "cell_type": "markdown",
   "id": "f4f944c1",
   "metadata": {},
   "source": [
    "### 4. Оценка "
   ]
  },
  {
   "cell_type": "code",
   "execution_count": 16,
   "id": "78ca871c",
   "metadata": {},
   "outputs": [
    {
     "data": {
      "text/html": [
       "<div>\n",
       "<style scoped>\n",
       "    .dataframe tbody tr th:only-of-type {\n",
       "        vertical-align: middle;\n",
       "    }\n",
       "\n",
       "    .dataframe tbody tr th {\n",
       "        vertical-align: top;\n",
       "    }\n",
       "\n",
       "    .dataframe thead th {\n",
       "        text-align: right;\n",
       "    }\n",
       "</style>\n",
       "<table border=\"1\" class=\"dataframe\">\n",
       "  <thead>\n",
       "    <tr style=\"text-align: right;\">\n",
       "      <th></th>\n",
       "      <th>Precision@5</th>\n",
       "      <th>MAP@5</th>\n",
       "    </tr>\n",
       "  </thead>\n",
       "  <tbody>\n",
       "    <tr>\n",
       "      <th>als_tfidf(f=100,r=0.05,it=5)</th>\n",
       "      <td>0.243095</td>\n",
       "      <td>0.168394</td>\n",
       "    </tr>\n",
       "    <tr>\n",
       "      <th>als_tfidf(f=150,r=0.05,it=5)</th>\n",
       "      <td>0.242507</td>\n",
       "      <td>0.166476</td>\n",
       "    </tr>\n",
       "    <tr>\n",
       "      <th>als_tfidf(f=100,r=0.05,it=20)</th>\n",
       "      <td>0.242409</td>\n",
       "      <td>0.164853</td>\n",
       "    </tr>\n",
       "    <tr>\n",
       "      <th>als_tfidf(f=100,r=0.05,it=15)</th>\n",
       "      <td>0.241626</td>\n",
       "      <td>0.164427</td>\n",
       "    </tr>\n",
       "    <tr>\n",
       "      <th>als_tfidf(f=100,r=0.01,it=10)</th>\n",
       "      <td>0.240059</td>\n",
       "      <td>0.163439</td>\n",
       "    </tr>\n",
       "    <tr>\n",
       "      <th>als_tfidf(f=150,r=0.05,it=10)</th>\n",
       "      <td>0.239961</td>\n",
       "      <td>0.162457</td>\n",
       "    </tr>\n",
       "    <tr>\n",
       "      <th>als_tfidf(f=100,r=0.01,it=5)</th>\n",
       "      <td>0.239471</td>\n",
       "      <td>0.165772</td>\n",
       "    </tr>\n",
       "    <tr>\n",
       "      <th>als_tfidf(f=100,r=0.01,it=15)</th>\n",
       "      <td>0.238883</td>\n",
       "      <td>0.162196</td>\n",
       "    </tr>\n",
       "    <tr>\n",
       "      <th>als_tfidf(f=100,r=0.05,it=10)</th>\n",
       "      <td>0.238883</td>\n",
       "      <td>0.164107</td>\n",
       "    </tr>\n",
       "    <tr>\n",
       "      <th>als_tfidf(f=150,r=0.01,it=5)</th>\n",
       "      <td>0.238002</td>\n",
       "      <td>0.162556</td>\n",
       "    </tr>\n",
       "  </tbody>\n",
       "</table>\n",
       "</div>"
      ],
      "text/plain": [
       "                               Precision@5     MAP@5\n",
       "als_tfidf(f=100,r=0.05,it=5)      0.243095  0.168394\n",
       "als_tfidf(f=150,r=0.05,it=5)      0.242507  0.166476\n",
       "als_tfidf(f=100,r=0.05,it=20)     0.242409  0.164853\n",
       "als_tfidf(f=100,r=0.05,it=15)     0.241626  0.164427\n",
       "als_tfidf(f=100,r=0.01,it=10)     0.240059  0.163439\n",
       "als_tfidf(f=150,r=0.05,it=10)     0.239961  0.162457\n",
       "als_tfidf(f=100,r=0.01,it=5)      0.239471  0.165772\n",
       "als_tfidf(f=100,r=0.01,it=15)     0.238883  0.162196\n",
       "als_tfidf(f=100,r=0.05,it=10)     0.238883  0.164107\n",
       "als_tfidf(f=150,r=0.01,it=5)      0.238002  0.162556"
      ]
     },
     "execution_count": 16,
     "metadata": {},
     "output_type": "execute_result"
    }
   ],
   "source": [
    "evaluate_df = pd.DataFrame(evaluate_dict, index=['Precision@5', 'MAP@5'])\n",
    "evaluate_df.T.sort_values('Precision@5', ascending=False).head(10)"
   ]
  },
  {
   "cell_type": "code",
   "execution_count": 17,
   "id": "e7d4f36a",
   "metadata": {
    "scrolled": true
   },
   "outputs": [
    {
     "data": {
      "text/html": [
       "<div>\n",
       "<style scoped>\n",
       "    .dataframe tbody tr th:only-of-type {\n",
       "        vertical-align: middle;\n",
       "    }\n",
       "\n",
       "    .dataframe tbody tr th {\n",
       "        vertical-align: top;\n",
       "    }\n",
       "\n",
       "    .dataframe thead th {\n",
       "        text-align: right;\n",
       "    }\n",
       "</style>\n",
       "<table border=\"1\" class=\"dataframe\">\n",
       "  <thead>\n",
       "    <tr style=\"text-align: right;\">\n",
       "      <th></th>\n",
       "      <th>Precision@5</th>\n",
       "      <th>MAP@5</th>\n",
       "    </tr>\n",
       "  </thead>\n",
       "  <tbody>\n",
       "    <tr>\n",
       "      <th>als_tfidf(f=100,r=0.05,it=5)</th>\n",
       "      <td>0.243095</td>\n",
       "      <td>0.168394</td>\n",
       "    </tr>\n",
       "    <tr>\n",
       "      <th>als_tfidf(f=150,r=0.05,it=5)</th>\n",
       "      <td>0.242507</td>\n",
       "      <td>0.166476</td>\n",
       "    </tr>\n",
       "    <tr>\n",
       "      <th>als_tfidf(f=100,r=0.01,it=5)</th>\n",
       "      <td>0.239471</td>\n",
       "      <td>0.165772</td>\n",
       "    </tr>\n",
       "    <tr>\n",
       "      <th>als_tfidf(f=100,r=0.05,it=20)</th>\n",
       "      <td>0.242409</td>\n",
       "      <td>0.164853</td>\n",
       "    </tr>\n",
       "    <tr>\n",
       "      <th>als_tfidf(f=100,r=0.05,it=15)</th>\n",
       "      <td>0.241626</td>\n",
       "      <td>0.164427</td>\n",
       "    </tr>\n",
       "    <tr>\n",
       "      <th>als_tfidf(f=100,r=0.05,it=10)</th>\n",
       "      <td>0.238883</td>\n",
       "      <td>0.164107</td>\n",
       "    </tr>\n",
       "    <tr>\n",
       "      <th>als_tfidf(f=100,r=0.01,it=10)</th>\n",
       "      <td>0.240059</td>\n",
       "      <td>0.163439</td>\n",
       "    </tr>\n",
       "    <tr>\n",
       "      <th>als_bm25(f=150,r=0.001,it=5)</th>\n",
       "      <td>0.236631</td>\n",
       "      <td>0.162560</td>\n",
       "    </tr>\n",
       "    <tr>\n",
       "      <th>als_tfidf(f=150,r=0.01,it=5)</th>\n",
       "      <td>0.238002</td>\n",
       "      <td>0.162556</td>\n",
       "    </tr>\n",
       "    <tr>\n",
       "      <th>als_tfidf(f=150,r=0.05,it=10)</th>\n",
       "      <td>0.239961</td>\n",
       "      <td>0.162457</td>\n",
       "    </tr>\n",
       "  </tbody>\n",
       "</table>\n",
       "</div>"
      ],
      "text/plain": [
       "                               Precision@5     MAP@5\n",
       "als_tfidf(f=100,r=0.05,it=5)      0.243095  0.168394\n",
       "als_tfidf(f=150,r=0.05,it=5)      0.242507  0.166476\n",
       "als_tfidf(f=100,r=0.01,it=5)      0.239471  0.165772\n",
       "als_tfidf(f=100,r=0.05,it=20)     0.242409  0.164853\n",
       "als_tfidf(f=100,r=0.05,it=15)     0.241626  0.164427\n",
       "als_tfidf(f=100,r=0.05,it=10)     0.238883  0.164107\n",
       "als_tfidf(f=100,r=0.01,it=10)     0.240059  0.163439\n",
       "als_bm25(f=150,r=0.001,it=5)      0.236631  0.162560\n",
       "als_tfidf(f=150,r=0.01,it=5)      0.238002  0.162556\n",
       "als_tfidf(f=150,r=0.05,it=10)     0.239961  0.162457"
      ]
     },
     "execution_count": 17,
     "metadata": {},
     "output_type": "execute_result"
    }
   ],
   "source": [
    "evaluate_df.T.sort_values('MAP@5', ascending=False).head(10)"
   ]
  },
  {
   "cell_type": "markdown",
   "id": "6fc7e80e",
   "metadata": {},
   "source": [
    "**Вывод:** Получили лучшие метрики при использовании ALS и TF-IDF взвешивания. Такого результата удалось достичь уменьшением итераций и увеличением регуляризации."
   ]
  },
  {
   "cell_type": "markdown",
   "id": "a4fc637e",
   "metadata": {},
   "source": [
    "---"
   ]
  }
 ],
 "metadata": {
  "kernelspec": {
   "display_name": "Python 3 (ipykernel)",
   "language": "python",
   "name": "python3"
  },
  "language_info": {
   "codemirror_mode": {
    "name": "ipython",
    "version": 3
   },
   "file_extension": ".py",
   "mimetype": "text/x-python",
   "name": "python",
   "nbconvert_exporter": "python",
   "pygments_lexer": "ipython3",
   "version": "3.11.0"
  }
 },
 "nbformat": 4,
 "nbformat_minor": 5
}
